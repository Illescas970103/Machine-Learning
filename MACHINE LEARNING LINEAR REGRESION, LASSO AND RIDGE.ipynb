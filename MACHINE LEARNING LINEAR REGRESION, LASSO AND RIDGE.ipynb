{
 "cells": [
  {
   "cell_type": "code",
   "execution_count": 59,
   "id": "6484955c",
   "metadata": {},
   "outputs": [],
   "source": [
    "import pandas as pd\n",
    "import numpy as np\n",
    "from sklearn.model_selection import train_test_split\n",
    "from sklearn.linear_model import LinearRegression\n",
    "import matplotlib.pyplot as plt\n",
    "import seaborn as sns"
   ]
  },
  {
   "cell_type": "markdown",
   "id": "dde25f7d",
   "metadata": {},
   "source": [
    "Generamos un pipe para limpiar el dataset"
   ]
  },
  {
   "cell_type": "code",
   "execution_count": 60,
   "id": "4588daf6",
   "metadata": {},
   "outputs": [
    {
     "data": {
      "text/html": [
       "<div>\n",
       "<style scoped>\n",
       "    .dataframe tbody tr th:only-of-type {\n",
       "        vertical-align: middle;\n",
       "    }\n",
       "\n",
       "    .dataframe tbody tr th {\n",
       "        vertical-align: top;\n",
       "    }\n",
       "\n",
       "    .dataframe thead th {\n",
       "        text-align: right;\n",
       "    }\n",
       "</style>\n",
       "<table border=\"1\" class=\"dataframe\">\n",
       "  <thead>\n",
       "    <tr style=\"text-align: right;\">\n",
       "      <th></th>\n",
       "      <th>CRIM</th>\n",
       "      <th>ZN</th>\n",
       "      <th>INDUS</th>\n",
       "      <th>CHAS</th>\n",
       "      <th>NX</th>\n",
       "      <th>RM</th>\n",
       "      <th>AGE</th>\n",
       "      <th>DIS</th>\n",
       "      <th>RAD</th>\n",
       "      <th>TAX</th>\n",
       "      <th>PTRATIO</th>\n",
       "      <th>B</th>\n",
       "      <th>LSTAT</th>\n",
       "      <th>MEDV</th>\n",
       "    </tr>\n",
       "  </thead>\n",
       "  <tbody>\n",
       "    <tr>\n",
       "      <th>0</th>\n",
       "      <td>0.00632</td>\n",
       "      <td>18.0</td>\n",
       "      <td>2.31</td>\n",
       "      <td>0</td>\n",
       "      <td>0.538</td>\n",
       "      <td>6.575</td>\n",
       "      <td>65.2</td>\n",
       "      <td>4.0900</td>\n",
       "      <td>1</td>\n",
       "      <td>296</td>\n",
       "      <td>15.3</td>\n",
       "      <td>396.90</td>\n",
       "      <td>4.98</td>\n",
       "      <td>24.0</td>\n",
       "    </tr>\n",
       "    <tr>\n",
       "      <th>1</th>\n",
       "      <td>0.02731</td>\n",
       "      <td>0.0</td>\n",
       "      <td>7.07</td>\n",
       "      <td>0</td>\n",
       "      <td>0.469</td>\n",
       "      <td>6.421</td>\n",
       "      <td>78.9</td>\n",
       "      <td>4.9671</td>\n",
       "      <td>2</td>\n",
       "      <td>242</td>\n",
       "      <td>17.8</td>\n",
       "      <td>396.90</td>\n",
       "      <td>9.14</td>\n",
       "      <td>21.6</td>\n",
       "    </tr>\n",
       "    <tr>\n",
       "      <th>2</th>\n",
       "      <td>0.02729</td>\n",
       "      <td>0.0</td>\n",
       "      <td>7.07</td>\n",
       "      <td>0</td>\n",
       "      <td>0.469</td>\n",
       "      <td>7.185</td>\n",
       "      <td>61.1</td>\n",
       "      <td>4.9671</td>\n",
       "      <td>2</td>\n",
       "      <td>242</td>\n",
       "      <td>17.8</td>\n",
       "      <td>392.83</td>\n",
       "      <td>4.03</td>\n",
       "      <td>34.7</td>\n",
       "    </tr>\n",
       "    <tr>\n",
       "      <th>3</th>\n",
       "      <td>0.03237</td>\n",
       "      <td>0.0</td>\n",
       "      <td>2.18</td>\n",
       "      <td>0</td>\n",
       "      <td>0.458</td>\n",
       "      <td>6.998</td>\n",
       "      <td>45.8</td>\n",
       "      <td>6.0622</td>\n",
       "      <td>3</td>\n",
       "      <td>222</td>\n",
       "      <td>18.7</td>\n",
       "      <td>394.63</td>\n",
       "      <td>2.94</td>\n",
       "      <td>33.4</td>\n",
       "    </tr>\n",
       "    <tr>\n",
       "      <th>4</th>\n",
       "      <td>0.06905</td>\n",
       "      <td>0.0</td>\n",
       "      <td>2.18</td>\n",
       "      <td>0</td>\n",
       "      <td>0.458</td>\n",
       "      <td>7.147</td>\n",
       "      <td>54.2</td>\n",
       "      <td>6.0622</td>\n",
       "      <td>3</td>\n",
       "      <td>222</td>\n",
       "      <td>18.7</td>\n",
       "      <td>396.90</td>\n",
       "      <td>5.33</td>\n",
       "      <td>36.2</td>\n",
       "    </tr>\n",
       "  </tbody>\n",
       "</table>\n",
       "</div>"
      ],
      "text/plain": [
       "      CRIM    ZN  INDUS  CHAS     NX     RM   AGE     DIS  RAD  TAX  PTRATIO  \\\n",
       "0  0.00632  18.0   2.31     0  0.538  6.575  65.2  4.0900    1  296     15.3   \n",
       "1  0.02731   0.0   7.07     0  0.469  6.421  78.9  4.9671    2  242     17.8   \n",
       "2  0.02729   0.0   7.07     0  0.469  7.185  61.1  4.9671    2  242     17.8   \n",
       "3  0.03237   0.0   2.18     0  0.458  6.998  45.8  6.0622    3  222     18.7   \n",
       "4  0.06905   0.0   2.18     0  0.458  7.147  54.2  6.0622    3  222     18.7   \n",
       "\n",
       "        B  LSTAT  MEDV  \n",
       "0  396.90   4.98  24.0  \n",
       "1  396.90   9.14  21.6  \n",
       "2  392.83   4.03  34.7  \n",
       "3  394.63   2.94  33.4  \n",
       "4  396.90   5.33  36.2  "
      ]
     },
     "execution_count": 60,
     "metadata": {},
     "output_type": "execute_result"
    }
   ],
   "source": [
    "boston_frame=(pd.read_csv('Boston.csv')\n",
    "              .drop(columns=['Unnamed: 0'],axis=1)\n",
    "              .rename(columns={'nox':'nx','black':'b'})\n",
    "              .rename(columns=str.upper)\n",
    "             )\n",
    "\n",
    "boston_frame.head()"
   ]
  },
  {
   "cell_type": "code",
   "execution_count": 61,
   "id": "4c78fa57",
   "metadata": {},
   "outputs": [
    {
     "data": {
      "text/plain": [
       "(506, 14)"
      ]
     },
     "execution_count": 61,
     "metadata": {},
     "output_type": "execute_result"
    }
   ],
   "source": [
    "boston_frame.shape"
   ]
  },
  {
   "cell_type": "markdown",
   "id": "a26d8937",
   "metadata": {},
   "source": [
    "La variable target es MEDV que es el valor medio de las viviendas ocupadas por sus propietarios en 1000 usd"
   ]
  },
  {
   "cell_type": "code",
   "execution_count": 62,
   "id": "0365eff0",
   "metadata": {},
   "outputs": [],
   "source": [
    "#CREAMOS LOS ARREGLOS PARA LOS FEATURES(X) Y LA VARIABLE TARGET(Y)\n",
    "X=boston_frame.drop(columns=['MEDV'],axis=1).values\n",
    "Y=boston_frame['MEDV'].values"
   ]
  },
  {
   "cell_type": "code",
   "execution_count": 63,
   "id": "c927e5f0",
   "metadata": {},
   "outputs": [],
   "source": [
    "#SEPAREMOS LOS DATOS EN PRUEBA Y ENTRENAMIENTO\n",
    "X_train,x_test,Y_train,y_test=train_test_split(X,Y,\n",
    "                                              test_size=0.8\n",
    "                                              ,random_state=42)"
   ]
  },
  {
   "cell_type": "code",
   "execution_count": 64,
   "id": "6529c35b",
   "metadata": {},
   "outputs": [],
   "source": [
    "#INSTANCIAMOS EL MODELO DE REGRESION LINEAL\n",
    "Lin_reg=LinearRegression()"
   ]
  },
  {
   "cell_type": "code",
   "execution_count": 65,
   "id": "964c241a",
   "metadata": {},
   "outputs": [
    {
     "data": {
      "text/plain": [
       "LinearRegression()"
      ]
     },
     "execution_count": 65,
     "metadata": {},
     "output_type": "execute_result"
    }
   ],
   "source": [
    "#AJUSTAMOS EL MODELO\n",
    "Lin_reg.fit(X_train,Y_train)"
   ]
  },
  {
   "cell_type": "code",
   "execution_count": 66,
   "id": "8c4a923d",
   "metadata": {},
   "outputs": [],
   "source": [
    "#PREDECIMOS DE ACUERDO A LOS DATOS DE PRUEBA\n",
    "Y_predict=Lin_reg.predict(x_test)"
   ]
  },
  {
   "cell_type": "code",
   "execution_count": 67,
   "id": "33f289f4",
   "metadata": {},
   "outputs": [
    {
     "data": {
      "text/plain": [
       "array([27.01908587, 36.39926682, 19.52223675, 25.26810254, 19.46487293,\n",
       "       23.79870856, 17.18010037, 16.20711737, 23.68847101, 20.04220179,\n",
       "       26.36855152, 18.59327186, -6.4664329 , 22.95909013, 17.40686932,\n",
       "       27.43257758, 19.92666616,  6.58724548, 39.32182162, 17.90432857,\n",
       "       26.00668515, 28.80570525, 10.37477062, 22.76021909, 17.92978821,\n",
       "       16.18952859, 23.71007322, 15.54932536, 23.46234325, 18.71440048,\n",
       "       20.59025588, 23.73922927, 25.63449   , 16.74323723, 18.1406512 ,\n",
       "       17.2356924 , 29.84079468, 17.83161727, 25.38606905, 25.27635836,\n",
       "       14.07970302, 28.90885816, 41.21058241, 17.56791799, 25.57994553,\n",
       "       17.0569498 , 12.4612    , 26.53317464, 21.41130736, 28.45234887,\n",
       "       20.77316517, 32.93038487, 14.8266904 , 25.19421146, 38.17415252,\n",
       "       23.98854895, 19.05440652, 30.50321095, 23.82730866, 12.46879907,\n",
       "       21.54510185, 28.72042986, 30.44440582, 14.78885693, 20.44691982,\n",
       "       17.92921098, 20.86597534, 24.75293069, 28.72257558, 12.63787816,\n",
       "       20.1411482 , 28.1057868 , 11.65702628, 14.19165287, 24.75186273,\n",
       "        5.83196668, 20.30811648, 39.93498257, 19.24440243, 14.04250028,\n",
       "       20.77083945, 14.64620923, 20.99217456,  9.85685305, 21.61713033,\n",
       "       32.38499534, 20.0621221 , 24.20362348, 28.58239805, 20.81921284,\n",
       "       24.55575065,  5.92965546, 20.40700218, 15.21119342, 10.32796893,\n",
       "       20.95929484, 23.96356596,  1.07282437, 14.00265947, 17.15528842,\n",
       "       21.27490799, 25.41900002, 11.55413724, 17.65103442, 23.22065147,\n",
       "       13.90880058, 16.50462421, 24.53782939, 18.71847849, 22.86796671,\n",
       "        8.84043924, 20.41499121, 19.72192657, 24.81567675, 30.81496623,\n",
       "       14.96553627, 32.79455672, 11.4436711 , 20.28036006, 27.98963788,\n",
       "       14.25978695, 24.25798886,  1.29092725, 23.44656208, 25.06981213,\n",
       "       21.42283336, 24.14435742, 30.52248457, 22.52976303, 37.33357857,\n",
       "       14.98469136, 26.09288469, 15.83492635, 21.11967033, 11.25729761,\n",
       "       21.69089152, 20.09965375, 29.91596535, 30.45982427, 14.06475053,\n",
       "       15.49047048, 28.27506398, 23.90460794, 18.51999859,  6.37496325,\n",
       "       25.6769862 , 25.10571419, 18.06897973, 12.33647395, 39.73034891,\n",
       "       17.26144891, 18.29218031, 22.89181306, 23.89519492, 21.09397609,\n",
       "       19.54293721, 17.78264354, 22.32739653, 27.00705502,  4.63467921,\n",
       "       22.2384234 , 15.32449203, 20.8517876 , 23.54796032, 25.277822  ,\n",
       "       19.67058766, 39.90447182, 19.69425304, 13.62021064, 19.31967564,\n",
       "       21.54219215, 21.66520312, 21.53162349, 33.91578948, 24.05136574,\n",
       "       20.77670073, 25.0919592 , 29.97336411, 33.62774669, 26.40753846,\n",
       "        9.98825013,  7.17625084, 13.5539276 , 21.949827  , 35.58546986,\n",
       "       33.63801188, 16.82215793,  6.44472775, 33.84424576, 21.36320297,\n",
       "       19.21014909, 27.09355542, 17.77319194, 17.52837521, 12.14554638,\n",
       "       31.67391062, 24.41784164, 19.1625289 , 19.36681897, 13.9341345 ,\n",
       "       28.21404055, 21.38613109, 32.92571211, 30.83818712, 23.24925844,\n",
       "       20.6594782 , 25.55197533, 46.32289458, 29.90299684, 32.01223465,\n",
       "       27.8648217 , 25.62848712, 16.42798895, 32.14683807, 21.23652606,\n",
       "       31.23941321, 29.02624893, 22.70797375, 25.25408583, 11.60428006,\n",
       "       36.20113402, 35.26928394, 31.57111792,  5.01776585, 22.00091969,\n",
       "       20.3707112 , 35.93163105, 18.09442916, 20.73279315, 18.14934598,\n",
       "       25.59826064, 16.34062214, 18.75379726, 27.12612555, 29.78644853,\n",
       "       29.95297905, 22.48805688, 41.91994008, 25.98856423, 30.03005844,\n",
       "       28.76517294, 21.39964907, 27.00329076, 16.49264056, 18.94353429,\n",
       "       23.69371304, 19.3220234 ,  2.44453619, 19.43935974, 24.94232524,\n",
       "       22.01091752, 17.82290864, 23.838287  , 17.55620083, 32.21054514,\n",
       "       28.31307551, 34.72054412, 21.71323541, 15.49120381, 20.39384772,\n",
       "        9.93626779, 15.16292647, 26.45076091, 16.78292511,  9.88718894,\n",
       "       23.25272629, 13.51917903, 27.54420376, 31.75472263, 35.36376222,\n",
       "       22.06821382, 20.17532471, 26.95955213, 37.43710292, 19.46006186,\n",
       "       21.41510899, 28.65604605, 11.902936  , 10.11946778, 13.0141438 ,\n",
       "       18.37688363, 21.81330144, 27.30193306, 27.71280973, 17.68957959,\n",
       "       30.66312709, 15.19026659, 14.21717519, 31.85458793, 20.07128415,\n",
       "       10.41668393, 24.64735828, 24.34757008, 20.65379155, 25.39071159,\n",
       "       36.03576766,  6.37144399, 20.88414476, 30.48813187, 17.1037662 ,\n",
       "       23.423896  , 20.16977081, 22.48291535, 12.49272407, 36.91865833,\n",
       "       24.31928214, 25.44583793, 17.19331751, 32.73082064, 34.04130433,\n",
       "       37.63128357, 20.5248434 , 21.69847314, 16.89575662, 37.83342946,\n",
       "        5.81147672, 18.689484  , 16.1700274 , 26.98897546, 10.27568109,\n",
       "       19.93094746,  0.87428101, 17.94467384, 16.69442626,  6.72086979,\n",
       "       22.18653662, 18.176594  , 28.94767148, 45.32672971, 26.34588421,\n",
       "       23.2576874 , 34.58821584,  9.53554986, 25.53709891, 21.58012627,\n",
       "       21.53252542, 18.08726532, 23.35806069, 18.06285827, 19.06009001,\n",
       "       22.09901537, 24.95432862, 27.30413195, 22.13556816, 27.00340035,\n",
       "       19.06111937, 13.72514   , 29.947251  , 28.5931667 , 12.46775183,\n",
       "       18.363339  , 23.52618279, 41.15511654, 22.73422447, 14.75868628,\n",
       "       26.61016351, 35.48966914, 24.15390978, 24.08168563, 36.4146735 ,\n",
       "       19.55398308, 25.45445257, 16.21201202, 24.7274734 , 35.5464489 ,\n",
       "       28.96801826, 24.21968995, 15.44710479, 17.13877188,  8.76696009,\n",
       "       40.77791923, 19.00445142, 30.64279553, 20.4866962 , 13.3200033 ,\n",
       "       20.38609179, 22.70744751, 33.12614483, 25.507586  , 43.96226971,\n",
       "       13.76921428, 15.52438853, 21.31220582, 18.95928883, 20.47718922,\n",
       "       29.79338011, 12.1062296 , 23.11164978, 19.31924253, 22.1303497 ,\n",
       "       29.91773304, 17.27387079, 12.78031203, 31.94428426, 17.12749023,\n",
       "       19.25330355, 18.35026593, 28.56704027, 33.74823422, 13.51408767,\n",
       "       24.4685535 , 16.72577496, 30.70019934, 17.42534595, 24.62399933])"
      ]
     },
     "execution_count": 67,
     "metadata": {},
     "output_type": "execute_result"
    }
   ],
   "source": [
    "Y_predict"
   ]
  },
  {
   "cell_type": "markdown",
   "id": "5a84675b",
   "metadata": {},
   "source": [
    "EVALUACION DEL MODELO"
   ]
  },
  {
   "cell_type": "code",
   "execution_count": 68,
   "id": "e0d7a2c9",
   "metadata": {},
   "outputs": [],
   "source": [
    "from sklearn import metrics"
   ]
  },
  {
   "cell_type": "markdown",
   "id": "50cb4605",
   "metadata": {},
   "source": [
    "PROCEDEREMOS A EVALUAR EL MODELO DE ACUERDO AL FACTOR DE DETERMINACION R^2"
   ]
  },
  {
   "cell_type": "code",
   "execution_count": 69,
   "id": "3ca26028",
   "metadata": {},
   "outputs": [
    {
     "data": {
      "text/plain": [
       "0.7079608143498475"
      ]
     },
     "execution_count": 69,
     "metadata": {},
     "output_type": "execute_result"
    }
   ],
   "source": [
    "metrics.r2_score(y_test,Y_predict) #EVALUAMOS LA R^2 EN LOS DATOS DE PRUEBA Y LOS DE PREDICCION es decir la diferencia entre los puntos y el modelo"
   ]
  },
  {
   "cell_type": "code",
   "execution_count": 70,
   "id": "20c598ca",
   "metadata": {},
   "outputs": [
    {
     "name": "stdout",
     "output_type": "stream",
     "text": [
      "R^2 0.7079608143498475\n"
     ]
    }
   ],
   "source": [
    "#EVALUAMOS LA R^2 en los datos de prueba evalua que tanto se ajustan\n",
    "print(\"R^2\",Lin_reg.score(x_test,y_test))"
   ]
  },
  {
   "cell_type": "markdown",
   "id": "5c3d38ec",
   "metadata": {},
   "source": [
    "MAE\n",
    "Error medio absoluto. Penaliza por igual todas las diferencias. Es muy sensible a outliers y valores inesperados."
   ]
  },
  {
   "cell_type": "code",
   "execution_count": 71,
   "id": "9b9a7104",
   "metadata": {},
   "outputs": [
    {
     "data": {
      "text/plain": [
       "3.5419150344712698"
      ]
     },
     "execution_count": 71,
     "metadata": {},
     "output_type": "execute_result"
    }
   ],
   "source": [
    "MAE=np.mean(np.abs(y_test-Y_predict))\n",
    "MAE"
   ]
  },
  {
   "cell_type": "code",
   "execution_count": 72,
   "id": "a17a79c5",
   "metadata": {},
   "outputs": [
    {
     "data": {
      "text/plain": [
       "3.5419150344712698"
      ]
     },
     "execution_count": 72,
     "metadata": {},
     "output_type": "execute_result"
    }
   ],
   "source": [
    "MAE2=metrics.mean_absolute_error(y_test,Y_predict)\n",
    "MAE2"
   ]
  },
  {
   "cell_type": "markdown",
   "id": "ca6f179f",
   "metadata": {},
   "source": [
    "MSE\n",
    "Error cuadrático medio. Penaliza más las grandes diferencias que las pequeñas."
   ]
  },
  {
   "cell_type": "code",
   "execution_count": 73,
   "id": "a4177e43",
   "metadata": {},
   "outputs": [],
   "source": [
    "MSE=np.mean((y_test-Y_predict)**2)"
   ]
  },
  {
   "cell_type": "code",
   "execution_count": 74,
   "id": "7edf88ec",
   "metadata": {},
   "outputs": [
    {
     "data": {
      "text/plain": [
       "25.564048911173387"
      ]
     },
     "execution_count": 74,
     "metadata": {},
     "output_type": "execute_result"
    }
   ],
   "source": [
    "MSE"
   ]
  },
  {
   "cell_type": "code",
   "execution_count": 75,
   "id": "e2cdb16f",
   "metadata": {},
   "outputs": [
    {
     "data": {
      "text/plain": [
       "25.564048911173387"
      ]
     },
     "execution_count": 75,
     "metadata": {},
     "output_type": "execute_result"
    }
   ],
   "source": [
    "metrics.mean_squared_error(y_test,Y_predict)"
   ]
  },
  {
   "cell_type": "markdown",
   "id": "0f0a51f9",
   "metadata": {},
   "source": [
    "RMSE\n",
    "Raíz error cuadrático medio. Penaliza más las grandes diferencias que las pequeñas. Es interpretable en las mismas unidades que y."
   ]
  },
  {
   "cell_type": "code",
   "execution_count": 76,
   "id": "4b52db10",
   "metadata": {},
   "outputs": [
    {
     "data": {
      "text/plain": [
       "5.05609027917554"
      ]
     },
     "execution_count": 76,
     "metadata": {},
     "output_type": "execute_result"
    }
   ],
   "source": [
    "RMSE=np.sqrt(np.mean((y_test-Y_predict)**2))\n",
    "RMSE"
   ]
  },
  {
   "cell_type": "code",
   "execution_count": 77,
   "id": "0cdbe020",
   "metadata": {},
   "outputs": [
    {
     "data": {
      "text/plain": [
       "5.05609027917554"
      ]
     },
     "execution_count": 77,
     "metadata": {},
     "output_type": "execute_result"
    }
   ],
   "source": [
    "np.sqrt(metrics.mean_squared_error(y_test,Y_predict))"
   ]
  },
  {
   "cell_type": "markdown",
   "id": "0e1d160d",
   "metadata": {},
   "source": [
    "REGULARIZACION\n",
    "La regularización puede ayudarnos a reducir los efectos del bias y la varianza y en esta parte veremos como utilizarla en modelos de regresión.\n",
    "La Regresión Lasso usa un tipo de regularización que impone una restricción utilizando la norma  L1 . Este tipo de regularización es útil cuando creemos que muchas de los parámetros del modelo no son relevantes."
   ]
  },
  {
   "cell_type": "code",
   "execution_count": 78,
   "id": "b20df362",
   "metadata": {},
   "outputs": [],
   "source": [
    "#LASSO REGRESSION\n",
    "from sklearn.linear_model import Lasso"
   ]
  },
  {
   "cell_type": "code",
   "execution_count": 80,
   "id": "9b98e0e5",
   "metadata": {},
   "outputs": [],
   "source": [
    "lasso_models={}\n",
    "training_scores=[]\n",
    "test_scores=[]\n",
    "alphas = [100, 30, 10, 5, 1, 0.1, .01, 0.001, 0.0001, 0.00001, 0.000001]\n",
    "for alpha in alphas:\n",
    "    lasso=Lasso(alpha=alpha).fit(X_train,Y_train)\n",
    "    training_scores.append(lasso.score(X_train,Y_train))\n",
    "    test_scores.append(lasso.score(x_test,y_test))\n",
    "    lasso_models[alpha]=lasso"
   ]
  },
  {
   "cell_type": "code",
   "execution_count": 91,
   "id": "94462c86",
   "metadata": {},
   "outputs": [],
   "source": [
    "#alfa=0.0001\n",
    "#Lassou=Lasso(alpha=alfa).fit(X_train,Y_train)\n",
    "#Lassou.predict(x_test)"
   ]
  },
  {
   "cell_type": "code",
   "execution_count": 93,
   "id": "8244e957",
   "metadata": {},
   "outputs": [
    {
     "data": {
      "text/plain": [
       "<matplotlib.legend.Legend at 0x22581992fd0>"
      ]
     },
     "execution_count": 93,
     "metadata": {},
     "output_type": "execute_result"
    },
    {
     "data": {
      "image/png": "[encoded data removed]",
      "text/plain": [
       "<Figure size 576x432 with 1 Axes>"
      ]
     },
     "metadata": {
      "needs_background": "light"
     },
     "output_type": "display_data"
    }
   ],
   "source": [
    "plt.figure(figsize=(8,6))\n",
    "plt.plot(training_scores,label='training scores')\n",
    "plt.plot(test_scores,label='test_scores')\n",
    "plt.xticks(range(len(alphas)),alphas)\n",
    "plt.legend(loc='best')"
   ]
  },
  {
   "cell_type": "code",
   "execution_count": 96,
   "id": "176fcfdc",
   "metadata": {},
   "outputs": [
    {
     "data": {
      "text/plain": [
       "[(100, 0.205173614706199),\n",
       " (30, 0.25590815412158097),\n",
       " (10, 0.520881251951218),\n",
       " (5, 0.565934980798863),\n",
       " (1, 0.6535653753160684),\n",
       " (0.1, 0.7049260440433983),\n",
       " (0.01, 0.7089700757579067),\n",
       " (0.001, 0.7081346347853121),\n",
       " (0.0001, 0.707978924446144),\n",
       " (1e-05, 0.7079626327428502),\n",
       " (1e-06, 0.7079609962591233)]"
      ]
     },
     "execution_count": 96,
     "metadata": {},
     "output_type": "execute_result"
    }
   ],
   "source": [
    "list(zip([100, 30, 10, 5, 1, 0.1, .01, 0.001, 0.0001, 0.00001, 0.000001],test_scores))"
   ]
  },
  {
   "cell_type": "markdown",
   "id": "f9783e33",
   "metadata": {},
   "source": [
    "AHORA QUE SABEMOS QUE LA ALPHA =0.01, con un coeficiente de determinacion R^2=0.708970"
   ]
  },
  {
   "cell_type": "code",
   "execution_count": 97,
   "id": "dd138fc7",
   "metadata": {},
   "outputs": [],
   "source": [
    "#INSTANCIAMOS EL MODELO\n",
    "Lassou=Lasso(alpha=0.01)"
   ]
  },
  {
   "cell_type": "code",
   "execution_count": 98,
   "id": "c99ab398",
   "metadata": {},
   "outputs": [
    {
     "data": {
      "text/plain": [
       "Lasso(alpha=0.01)"
      ]
     },
     "execution_count": 98,
     "metadata": {},
     "output_type": "execute_result"
    }
   ],
   "source": [
    "#AJUSTAMOS EL MODELO CON LOS DATOS DE ENTRENAMIENTO\n",
    "Lassou.fit(X_train,Y_train)"
   ]
  },
  {
   "cell_type": "code",
   "execution_count": 102,
   "id": "4a86ce0f",
   "metadata": {},
   "outputs": [],
   "source": [
    "#predecimos con los datos de prueba\n",
    "lasso_predict=Lassou.predict(x_test)"
   ]
  },
  {
   "cell_type": "code",
   "execution_count": 103,
   "id": "426293db",
   "metadata": {},
   "outputs": [
    {
     "data": {
      "text/plain": [
       "array([26.83067353, 36.20887589, 19.25433108, 25.16785747, 19.48943865,\n",
       "       23.31227057, 17.16658574, 16.16136784, 22.99957826, 20.12081293,\n",
       "       25.99028682, 18.54947469, -6.25928491, 22.61716182, 17.37991474,\n",
       "       27.15508468, 19.68681647,  6.50653183, 39.20812127, 17.9367682 ,\n",
       "       26.11793283, 28.70008488, 10.43102681, 23.01288246, 17.9677077 ,\n",
       "       15.68650676, 23.43015671, 15.61265941, 23.07310475, 18.86182824,\n",
       "       20.35824397, 23.8037626 , 25.54825181, 17.03033902, 17.57706257,\n",
       "       18.09369992, 29.81082445, 18.12826992, 25.16754025, 25.16680125,\n",
       "       14.17112958, 28.73211175, 41.01351167, 17.45030782, 25.53802418,\n",
       "       17.00676474, 12.51346792, 26.42319656, 20.93417854, 28.66133573,\n",
       "       20.74196878, 32.79338398, 14.89425435, 25.19372597, 38.30012643,\n",
       "       23.74509169, 19.15157128, 30.45033819, 23.77947589, 12.32363427,\n",
       "       21.6654352 , 28.8804262 , 30.48452765, 15.12054078, 20.72390399,\n",
       "       17.48274699, 20.77018741, 24.72400205, 28.80689447, 12.6898622 ,\n",
       "       20.08174073, 27.53899544, 11.79936282, 14.71013028, 24.39524293,\n",
       "        5.96656663, 20.18402231, 39.72981191, 19.08783749, 13.74086606,\n",
       "       20.69230336, 14.05798679, 21.11559288,  9.80036026, 21.53930971,\n",
       "       32.1491993 , 20.10755993, 24.33806097, 28.39642663, 20.83137164,\n",
       "       24.57410991,  5.95691585, 20.47766048, 15.32092065, 10.45289778,\n",
       "       21.03355788, 23.61895777,  0.5778316 , 14.21598091, 16.65928023,\n",
       "       21.1995399 , 25.09986792, 11.18419135, 17.96203711, 23.32193277,\n",
       "       13.4987791 , 16.70089747, 24.82473174, 19.12177271, 23.08652963,\n",
       "        8.97817011, 19.92213396, 20.14500454, 24.75829976, 30.58390243,\n",
       "       15.08666441, 32.64678709, 11.58987402, 20.47393897, 27.92940261,\n",
       "       14.1312127 , 24.37074906,  1.83882049, 23.32294866, 25.20762786,\n",
       "       21.51459972, 24.33398231, 30.36692111, 23.37804665, 37.04187971,\n",
       "       14.67112865, 26.16919392, 15.9248837 , 20.88500537, 12.05127682,\n",
       "       21.2656399 , 20.40912188, 29.9087054 , 30.42354152, 14.16652646,\n",
       "       15.64226798, 28.21505001, 23.74534915, 18.09672011,  6.63211203,\n",
       "       25.26560221, 25.87251561, 18.20252273, 12.37457846, 39.44989581,\n",
       "       17.31433791, 18.46305663, 23.01205744, 23.79547419, 21.06124216,\n",
       "       19.97751327, 17.46399501, 22.68200692, 27.18355496,  5.13712022,\n",
       "       22.17543374, 15.29767677, 20.8870718 , 23.6079    , 25.6040107 ,\n",
       "       19.80746398, 40.11437158, 19.30924717, 13.76774824, 19.1748041 ,\n",
       "       21.38326678, 21.50846625, 21.63483544, 33.68108168, 23.60046291,\n",
       "       20.64158575, 24.9237836 , 30.04223838, 33.59148572, 26.3029574 ,\n",
       "       10.75658522,  6.86381735, 13.42921219, 22.12835266, 35.46342642,\n",
       "       33.24491486, 16.85763711,  6.32740779, 33.41970013, 21.33465201,\n",
       "       19.48923004, 26.85906607, 17.87229535, 17.51924915, 12.15743173,\n",
       "       31.66454   , 24.53359369, 19.02027328, 19.42694912, 14.68720912,\n",
       "       27.91298822, 22.21239536, 32.60567908, 30.83060256, 23.16014189,\n",
       "       20.63528307, 25.36297509, 46.00936397, 30.00694979, 31.82721565,\n",
       "       27.69767357, 25.72963991, 16.47182703, 32.36575215, 21.16517712,\n",
       "       31.22516247, 28.85627508, 22.29757613, 25.453416  , 11.69644797,\n",
       "       36.23545043, 35.4843366 , 31.45690311,  5.05868025, 21.56823915,\n",
       "       20.34051958, 35.7887358 , 18.07747071, 20.41699512, 18.02123634,\n",
       "       25.46316996, 16.25691592, 18.80537909, 26.9895401 , 29.78727992,\n",
       "       30.14710637, 22.48195605, 41.89291862, 26.15413909, 30.09820887,\n",
       "       28.51698474, 22.25822648, 26.92257   , 16.37278505, 18.7823038 ,\n",
       "       23.75898256, 19.19927367,  2.46276288, 19.33900178, 24.75320097,\n",
       "       22.14270113, 17.8749229 , 23.6895673 , 16.95899478, 32.17924025,\n",
       "       27.98199988, 34.54397515, 21.4750925 , 16.33384019, 20.26037751,\n",
       "       10.71418821, 15.06909296, 26.32683486, 16.48180317,  9.55887845,\n",
       "       23.03808003, 14.30704123, 27.38103682, 31.6375201 , 35.13787154,\n",
       "       22.39875706, 19.94845214, 26.80529424, 37.41960416, 19.51738796,\n",
       "       21.16856255, 28.39073025, 12.39906974, 10.11521522, 12.92400667,\n",
       "       18.5016112 , 21.61947468, 27.18084547, 27.49809871, 17.3843355 ,\n",
       "       30.36545989, 15.22074398, 13.80772168, 31.79619795, 20.12629229,\n",
       "       11.10154298, 24.11703809, 24.62342967, 20.2760664 , 25.05272835,\n",
       "       35.60643838,  6.48515919, 20.65451898, 30.47617432, 17.25272511,\n",
       "       23.69778518, 20.60178088, 22.19206602, 12.64187155, 36.76328662,\n",
       "       24.31337675, 25.25193625, 17.22627067, 32.55134916, 34.19923909,\n",
       "       37.48798059, 20.32564069, 21.60036234, 17.23792061, 37.58087695,\n",
       "        5.65821238, 18.91169198, 16.18261705, 26.89165163, 10.15154016,\n",
       "       19.79447627,  0.63239957, 17.9435769 , 16.76849727,  6.46826302,\n",
       "       22.1681083 , 18.4604859 , 28.8698988 , 45.10210699, 26.25996192,\n",
       "       23.08757846, 34.60878493,  9.4523571 , 26.43143199, 21.65582728,\n",
       "       21.48360988, 18.20551208, 23.1248422 , 18.73744355, 18.9431124 ,\n",
       "       22.46094555, 24.49708389, 27.16068588, 22.02097447, 26.76953753,\n",
       "       18.8934518 , 13.62296987, 29.82154867, 28.74113294, 12.73484158,\n",
       "       18.35138607, 23.45989575, 40.86841393, 22.82091021, 14.60656963,\n",
       "       26.73472742, 35.32583401, 24.17300275, 24.03131833, 36.16297695,\n",
       "       19.02425646, 25.44976014, 15.88375322, 24.50826951, 35.48380127,\n",
       "       28.92778942, 24.17838558, 15.27303446, 16.87675027,  8.82116892,\n",
       "       40.7728807 , 19.13067978, 30.7502638 , 20.47992871, 13.44164924,\n",
       "       20.33672698, 22.54024011, 33.35919468, 25.31092624, 43.64698298,\n",
       "       13.60984353, 15.48889806, 21.30951406, 18.97797207, 20.47984612,\n",
       "       29.22312847, 11.89184056, 23.33836781, 19.05036144, 22.26401687,\n",
       "       29.73189768, 17.4550903 , 13.67642479, 32.06061434, 16.98138261,\n",
       "       19.25655164, 18.15896178, 28.38398981, 33.55694895, 13.63129544,\n",
       "       24.65391493, 16.98995439, 30.44989498, 17.24088435, 24.38297483])"
      ]
     },
     "execution_count": 103,
     "metadata": {},
     "output_type": "execute_result"
    }
   ],
   "source": [
    "lasso_predict"
   ]
  },
  {
   "cell_type": "code",
   "execution_count": 104,
   "id": "e9199909",
   "metadata": {},
   "outputs": [
    {
     "name": "stdout",
     "output_type": "stream",
     "text": [
      "R^2 0.7089700757579067\n"
     ]
    }
   ],
   "source": [
    "print(\"R^2\",Lassou.score(x_test,y_test))"
   ]
  },
  {
   "cell_type": "code",
   "execution_count": 106,
   "id": "374c489c",
   "metadata": {},
   "outputs": [
    {
     "name": "stdout",
     "output_type": "stream",
     "text": [
      "rmse 5.047346019010183\n"
     ]
    }
   ],
   "source": [
    "print('rmse',np.sqrt(metrics.mean_squared_error(y_test,lasso_predict)))"
   ]
  },
  {
   "cell_type": "code",
   "execution_count": 108,
   "id": "25c793db",
   "metadata": {},
   "outputs": [
    {
     "name": "stdout",
     "output_type": "stream",
     "text": [
      "[-1.63752902e-01  1.99355434e-02  1.27590485e-01  4.66834233e+00\n",
      " -1.51714423e+01  4.99782918e+00 -3.52489569e-02 -1.25840038e+00\n",
      "  1.26652962e-01  2.94006360e-05 -1.06939153e+00  1.19211463e-02\n",
      " -3.84295981e-01]\n"
     ]
    }
   ],
   "source": [
    "#compute and print the coeficient\n",
    "lasso_coef=Lassou.coef_\n",
    "print(lasso_coef)"
   ]
  },
  {
   "cell_type": "code",
   "execution_count": 109,
   "id": "40210b60",
   "metadata": {},
   "outputs": [],
   "source": [
    "df_columns=boston_frame.drop(columns='MEDV',axis=1).columns\n",
    "#coeficientes=pd.Series()"
   ]
  },
  {
   "cell_type": "code",
   "execution_count": 110,
   "id": "bfedebb4",
   "metadata": {},
   "outputs": [
    {
     "data": {
      "text/plain": [
       "Index(['CRIM', 'ZN', 'INDUS', 'CHAS', 'NX', 'RM', 'AGE', 'DIS', 'RAD', 'TAX',\n",
       "       'PTRATIO', 'B', 'LSTAT'],\n",
       "      dtype='object')"
      ]
     },
     "execution_count": 110,
     "metadata": {},
     "output_type": "execute_result"
    }
   ],
   "source": [
    "df_columns"
   ]
  },
  {
   "cell_type": "code",
   "execution_count": 111,
   "id": "7691811e",
   "metadata": {},
   "outputs": [
    {
     "data": {
      "text/plain": [
       "NX        -15.171442\n",
       "DIS        -1.258400\n",
       "PTRATIO    -1.069392\n",
       "LSTAT      -0.384296\n",
       "CRIM       -0.163753\n",
       "AGE        -0.035249\n",
       "TAX         0.000029\n",
       "B           0.011921\n",
       "ZN          0.019936\n",
       "RAD         0.126653\n",
       "INDUS       0.127590\n",
       "CHAS        4.668342\n",
       "RM          4.997829\n",
       "dtype: float64"
      ]
     },
     "execution_count": 111,
     "metadata": {},
     "output_type": "execute_result"
    }
   ],
   "source": [
    "coeficientes=pd.Series(lasso_coef,index=df_columns).sort_values(ascending=True)\n",
    "coeficientes"
   ]
  },
  {
   "cell_type": "code",
   "execution_count": 112,
   "id": "27f6a524",
   "metadata": {},
   "outputs": [
    {
     "data": {
      "image/png": "[encoded data removed]",
      "text/plain": [
       "<Figure size 432x288 with 1 Axes>"
      ]
     },
     "metadata": {
      "needs_background": "light"
     },
     "output_type": "display_data"
    }
   ],
   "source": [
    "plt.plot(range(len(coeficientes.index)),coeficientes.values)\n",
    "plt.xticks(range(len(coeficientes.index)),coeficientes.index,rotation=90)\n",
    "plt.show()"
   ]
  },
  {
   "cell_type": "markdown",
   "id": "c85a563c",
   "metadata": {},
   "source": [
    "SEGUNDA REGRESION TIPO RIDGE\n",
    "La Regresión Ridge es un método de regularización que impone una restricción a los pesos del modelo de regresión simple. La regresión que impone la Regresión de Ridge se basa en la norma"
   ]
  },
  {
   "cell_type": "code",
   "execution_count": 133,
   "id": "40756b70",
   "metadata": {},
   "outputs": [],
   "source": [
    "from sklearn.linear_model import Ridge"
   ]
  },
  {
   "cell_type": "code",
   "execution_count": 154,
   "id": "33d8fa3d",
   "metadata": {},
   "outputs": [],
   "source": [
    "ridge_models={}\n",
    "test_scores=[]\n",
    "training_scores=[]\n",
    "alphas=[100, 30, 10, 5, 1, 0.1, .01, 0.001]\n",
    "for alphar in alphas:\n",
    "    ridge=Ridge(alpha=alphar).fit(X_train,Y_train)\n",
    "    test_scores.append(ridge.score(x_test,y_test))\n",
    "    training_scores.append(ridge.score(X_train,Y_train))\n",
    "    ridge_models[alphar]=ridge"
   ]
  },
  {
   "cell_type": "code",
   "execution_count": null,
   "id": "a0d9c045",
   "metadata": {},
   "outputs": [],
   "source": []
  },
  {
   "cell_type": "code",
   "execution_count": 155,
   "id": "0ed74f08",
   "metadata": {},
   "outputs": [
    {
     "data": {
      "text/plain": [
       "<matplotlib.legend.Legend at 0x22581b05580>"
      ]
     },
     "execution_count": 155,
     "metadata": {},
     "output_type": "execute_result"
    },
    {
     "data": {
      "image/png": "[encoded data removed]",
      "text/plain": [
       "<Figure size 576x432 with 1 Axes>"
      ]
     },
     "metadata": {
      "needs_background": "light"
     },
     "output_type": "display_data"
    }
   ],
   "source": [
    "plt.figure(figsize=(8,6))\n",
    "plt.plot(training_scores,label='Training scores')\n",
    "plt.plot(test_scores,label='Test scores')\n",
    "plt.xticks(range(len(alphas)),alphas)\n",
    "plt.legend(loc='best')"
   ]
  },
  {
   "cell_type": "code",
   "execution_count": 157,
   "id": "b51eea5f",
   "metadata": {},
   "outputs": [
    {
     "data": {
      "text/plain": [
       "[(100, 0.6709066094576044),\n",
       " (30, 0.6930679428848887),\n",
       " (10, 0.7065995399152003),\n",
       " (5, 0.708466297448287),\n",
       " (1, 0.7050279992803692),\n",
       " (0.1, 0.7078333444365953),\n",
       " (0.01, 0.7080866492207936),\n",
       " (0.001, 0.7079761065699833)]"
      ]
     },
     "execution_count": 157,
     "metadata": {},
     "output_type": "execute_result"
    }
   ],
   "source": [
    "list(zip([100, 30, 10, 5, 1, 0.1, .01, 0.001],test_scores))"
   ]
  },
  {
   "cell_type": "markdown",
   "id": "faa3f972",
   "metadata": {},
   "source": [
    "THE BEST ALPHA IN THIS CASE IS 0.001 WITH THE DETERMINATION SCORE OF 0.7283"
   ]
  },
  {
   "cell_type": "code",
   "execution_count": 158,
   "id": "a2b3631b",
   "metadata": {},
   "outputs": [],
   "source": [
    "alphi=0.001\n",
    "r2=0.7283\n",
    "#INSTANCIAR EL MODELO RIDGE\n",
    "Ridges=Ridge(alpha=alphi)"
   ]
  },
  {
   "cell_type": "code",
   "execution_count": 159,
   "id": "b913c230",
   "metadata": {},
   "outputs": [
    {
     "data": {
      "text/plain": [
       "Ridge(alpha=0.001)"
      ]
     },
     "execution_count": 159,
     "metadata": {},
     "output_type": "execute_result"
    }
   ],
   "source": [
    "#AJUSTAR EL MODELO \n",
    "Ridges.fit(X_train,Y_train)"
   ]
  },
  {
   "cell_type": "code",
   "execution_count": 160,
   "id": "564a5ed4",
   "metadata": {},
   "outputs": [],
   "source": [
    "#PREDCITOR\n",
    "Y_predictor=Ridges.predict(x_test)"
   ]
  },
  {
   "cell_type": "code",
   "execution_count": 161,
   "id": "a96ae96b",
   "metadata": {},
   "outputs": [
    {
     "data": {
      "text/plain": [
       "array([27.01527012, 36.3980252 , 19.51748869, 25.26602638, 19.4653668 ,\n",
       "       23.78940165, 17.17975557, 16.20673024, 23.67510146, 20.04358679,\n",
       "       26.36385584, 18.59221866, -6.46297494, 22.95267671, 17.40573312,\n",
       "       27.42765426, 19.92165411,  6.58546436, 39.31984832, 17.90487277,\n",
       "       26.00855253, 28.80342631, 10.37571308, 22.76499435, 17.93017798,\n",
       "       16.17939083, 23.70456442, 15.55066099, 23.45739352, 18.71698741,\n",
       "       20.58534315, 23.74023963, 25.633229  , 16.74763941, 18.12995784,\n",
       "       17.25160512, 29.84028901, 17.83675558, 25.38453825, 25.27435269,\n",
       "       14.08135651, 28.90514172, 41.20696256, 17.56537776, 25.57905041,\n",
       "       17.05557991, 12.46180745, 26.53122954, 21.40218127, 28.45607195,\n",
       "       20.77216674, 32.9277479 , 14.82795385, 25.19425265, 38.17680263,\n",
       "       23.98386342, 19.05612964, 30.50163852, 23.82636155, 12.46557283,\n",
       "       21.54727285, 28.72313242, 30.44512039, 14.79466084, 20.45176152,\n",
       "       17.92303921, 20.86423038, 24.75205808, 28.72363417, 12.63858952,\n",
       "       20.13993408, 28.09489797, 11.65968669, 14.20045653, 24.7450747 ,\n",
       "        5.83452849, 20.30552448, 39.93113219, 19.24175035, 14.03705866,\n",
       "       20.76901341, 14.63506171, 20.99384755,  9.85539415, 21.61521563,\n",
       "       32.38312871, 20.06316981, 24.20598671, 28.57843688, 20.81949967,\n",
       "       24.55594471,  5.92984764, 20.40816574, 15.21310427, 10.32794823,\n",
       "       20.96048393, 23.95645236,  1.06299556, 14.00662581, 17.14606167,\n",
       "       21.27341133, 25.41293728, 11.54679687, 17.65638686, 23.22222632,\n",
       "       13.90109363, 16.50779813, 24.54323248, 18.72572912, 22.871381  ,\n",
       "        8.84319319, 20.40595418, 19.72961219, 24.81425469, 30.81060525,\n",
       "       14.96743333, 32.79221976, 11.44591438, 20.2837934 , 27.98834589,\n",
       "       14.25644848, 24.2600089 ,  1.30063376, 23.44391602, 25.07230625,\n",
       "       21.4241447 , 24.14740537, 30.51934788, 22.54844939, 37.32831152,\n",
       "       14.97867226, 26.09465033, 15.83614057, 21.1152671 , 11.27248587,\n",
       "       21.68258123, 20.10517316, 29.91502476, 30.45882648, 14.06634198,\n",
       "       15.49306278, 28.2734087 , 23.90084614, 18.5144619 ,  6.37977435,\n",
       "       25.66862468, 25.12288028, 18.07168667, 12.33695161, 39.725991  ,\n",
       "       17.26237589, 18.29530923, 22.89367086, 23.89329661, 21.09295858,\n",
       "       19.55081366, 17.77650096, 22.33368824, 27.01033915,  4.6437395 ,\n",
       "       22.23704315, 15.32322195, 20.85257341, 23.54881291, 25.28335686,\n",
       "       19.67314686, 39.90919617, 19.6868625 , 13.6225221 , 19.31687555,\n",
       "       21.53935863, 21.66213675, 21.53318457, 33.9111723 , 24.04288734,\n",
       "       20.77409274, 25.08862922, 29.97471637, 33.62720655, 26.40523116,\n",
       "       10.00280938,  7.17037785, 13.55143664, 21.95582425, 35.58563256,\n",
       "       33.63326294, 16.82293349,  6.44275943, 33.83831731, 21.36237817,\n",
       "       19.21525919, 27.08886872, 17.77475659, 17.52784211, 12.1459906 ,\n",
       "       31.6736803 , 24.42006355, 19.15981146, 19.36779892, 13.94899589,\n",
       "       28.20795741, 21.40357705, 32.92239343, 30.83813248, 23.24707257,\n",
       "       20.65874859, 25.54791207, 46.32039311, 29.90481226, 32.00886609,\n",
       "       27.86184997, 25.63001472, 16.42890337, 32.15193174, 21.2350189 ,\n",
       "       31.23915004, 29.02303446, 22.69983668, 25.26042729, 11.60543117,\n",
       "       36.20255184, 35.27361486, 31.56906699,  5.01795544, 21.99293055,\n",
       "       20.36972522, 35.92890177, 18.09419849, 20.72503676, 18.14628121,\n",
       "       25.59510366, 16.33937782, 18.75407626, 27.12370569, 29.78664692,\n",
       "       29.95705665, 22.48764086, 41.92318235, 25.99152999, 30.0314993 ,\n",
       "       28.75979087, 21.41582959, 27.00136099, 16.49012443, 18.93979868,\n",
       "       23.69485402, 19.31986189,  2.4442795 , 19.4372796 , 24.93833156,\n",
       "       22.01327596, 17.82367646, 23.83508874, 17.5450979 , 32.2099797 ,\n",
       "       28.30669489, 34.71728012, 21.70925621, 15.50675677, 20.39152227,\n",
       "        9.95105327, 15.16129705, 26.44825463, 16.77718755,  9.88135027,\n",
       "       23.24849619, 13.53429165, 27.54090442, 31.7521303 , 35.36013154,\n",
       "       22.07352392, 20.17065722, 26.95606007, 37.43706289, 19.46076096,\n",
       "       21.41031996, 28.65095663, 11.91126284, 10.11806154, 13.01299902,\n",
       "       18.37877214, 21.80913599, 27.29929567, 27.70846894, 17.6831249 ,\n",
       "       30.65980214, 15.19059869, 14.20885842, 31.85312013, 20.07201064,\n",
       "       10.42967795, 24.63708276, 24.35512919, 20.6464498 , 25.38410145,\n",
       "       36.02993022,  6.37419614, 20.87968902, 30.48790097, 17.10591295,\n",
       "       23.42934736, 20.17756966, 22.47710932, 12.49516306, 36.91639826,\n",
       "       24.31896116, 25.44172557, 17.19381999, 32.72749943, 34.04436861,\n",
       "       37.62919853, 20.52095587, 21.69617476, 16.90166274, 37.82930422,\n",
       "        5.80734811, 18.69315259, 16.16998392, 26.98691816, 10.27379985,\n",
       "       19.92824375,  0.86937453, 17.94477072, 16.69549387,  6.71396471,\n",
       "       22.18594103, 18.18225139, 28.94557711, 45.32535624, 26.34412982,\n",
       "       23.2542    , 34.58917199,  9.53384282, 25.55379001, 21.58160922,\n",
       "       21.53109737, 18.08933908, 23.35330487, 18.07849075, 19.05806524,\n",
       "       22.10589077, 24.94850427, 27.30136615, 22.13281721, 26.99909341,\n",
       "       19.05849302, 13.72302207, 29.94487271, 28.59623493, 12.47272436,\n",
       "       18.36313969, 23.5248761 , 41.15257078, 22.73508644, 14.75643402,\n",
       "       26.61263519, 35.48630857, 24.15491949, 24.08077625, 36.41027474,\n",
       "       19.54422874, 25.45442994, 16.20541815, 24.72284782, 35.54603988,\n",
       "       28.96664944, 24.21876576, 15.44303821, 17.13369461,  8.76836125,\n",
       "       40.77878312, 19.00678512, 30.64478394, 20.48679147, 13.32210436,\n",
       "       20.38497776, 22.70390617, 33.13080961, 25.50323825, 43.95922892,\n",
       "       13.76643791, 15.52377427, 21.31148198, 18.95975475, 20.47732723,\n",
       "       29.78257387, 12.10234457, 23.11577464, 19.31385439, 22.13286783,\n",
       "       29.91389302, 17.27679819, 12.796605  , 31.94615192, 17.12484225,\n",
       "       19.25317048, 18.34576908, 28.56605712, 33.74454931, 13.51620056,\n",
       "       24.47182841, 16.73023632, 30.69800101, 17.42167729, 24.62201406])"
      ]
     },
     "execution_count": 161,
     "metadata": {},
     "output_type": "execute_result"
    }
   ],
   "source": [
    "Y_predictor"
   ]
  },
  {
   "cell_type": "code",
   "execution_count": 162,
   "id": "862cf89d",
   "metadata": {},
   "outputs": [
    {
     "name": "stdout",
     "output_type": "stream",
     "text": [
      "R^2 0.7079761065699833\n"
     ]
    }
   ],
   "source": [
    "#COEFICIENTE DE DETERMINACION\n",
    "print('R^2',Ridges.score(x_test,y_test))"
   ]
  },
  {
   "cell_type": "code",
   "execution_count": 163,
   "id": "44ffdd21",
   "metadata": {},
   "outputs": [
    {
     "name": "stdout",
     "output_type": "stream",
     "text": [
      "RMSE 5.055957899923757\n"
     ]
    }
   ],
   "source": [
    "print(\"RMSE\",np.sqrt(metrics.mean_squared_error(y_test,Y_predictor)))"
   ]
  },
  {
   "cell_type": "code",
   "execution_count": null,
   "id": "73307733",
   "metadata": {},
   "outputs": [],
   "source": []
  }
 ],
 "metadata": {
  "kernelspec": {
   "display_name": "Python 3",
   "language": "python",
   "name": "python3"
  },
  "language_info": {
   "codemirror_mode": {
    "name": "ipython",
    "version": 3
   },
   "file_extension": ".py",
   "mimetype": "text/x-python",
   "name": "python",
   "nbconvert_exporter": "python",
   "pygments_lexer": "ipython3",
   "version": "3.8.8"
  }
 },
 "nbformat": 4,
 "nbformat_minor": 5
}
